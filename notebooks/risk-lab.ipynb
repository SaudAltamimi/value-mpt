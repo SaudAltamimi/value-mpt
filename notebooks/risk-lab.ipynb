{
 "cells": [
  {
   "cell_type": "markdown",
   "metadata": {},
   "source": [
    "# Imports"
   ]
  },
  {
   "cell_type": "code",
   "execution_count": 1,
   "metadata": {},
   "outputs": [],
   "source": [
    "%reload_ext autoreload\n",
    "%autoreload 2\n",
    "import pandas as pd\n",
    "import numpy as np\n",
    "import yfinance as yf\n",
    "from datetime import datetime, timedelta\n",
    "from value_mpt.risk.risk_analyzer import RiskAnalyzer"
   ]
  },
  {
   "cell_type": "markdown",
   "metadata": {},
   "source": [
    "# Usage of Risk Analyzer Class \n",
    "using dummy variables"
   ]
  },
  {
   "cell_type": "code",
   "execution_count": 2,
   "metadata": {},
   "outputs": [],
   "source": [
    "\n",
    "#Dummy variables\n",
    "stock_ticker = '1120.SR' \n",
    "market_ticker = '^TASI.SR'\n"
   ]
  },
  {
   "cell_type": "markdown",
   "metadata": {},
   "source": [
    "# Generate Risk Assessment Report"
   ]
  },
  {
   "cell_type": "code",
   "execution_count": 3,
   "metadata": {},
   "outputs": [
    {
     "name": "stderr",
     "output_type": "stream",
     "text": [
      "[*********************100%***********************]  1 of 1 completed\n",
      "[*********************100%***********************]  1 of 1 completed\n",
      "[*********************100%***********************]  1 of 1 completed\n",
      "[*********************100%***********************]  1 of 1 completed\n",
      "[*********************100%***********************]  1 of 1 completed\n",
      "[*********************100%***********************]  1 of 1 completed\n",
      "[*********************100%***********************]  1 of 1 completed\n",
      "[*********************100%***********************]  1 of 1 completed"
     ]
    },
    {
     "name": "stdout",
     "output_type": "stream",
     "text": [
      "\n",
      "    Risk Assessment Report\n",
      "    ----------------------\n",
      "    Date: 2024-09-21\n",
      "    \n",
      "    Stock: 1120.SR\n",
      "    Market Index: ^TASI.SR\n",
      "    Period: From 2022-09-22 to 2024-09-21\n",
      "    \n",
      "    Beta: 1.1109\n",
      "    Systematic Risk: 0.0000752\n",
      "    Unsystematic Risk: 0.0000870\n",
      "    \n",
      "    Summary:\n",
      "    - The beta value of 1.1109 indicates that the stock is more volatile compared to the market.\n",
      "    - Systematic risk represents the risk that cannot be diversified away, influenced by market factors.\n",
      "    - Unsystematic risk, at 0.0001, is the portion of risk specific to 1120.SR, which can be mitigated through diversification.\n",
      "    \n"
     ]
    },
    {
     "name": "stderr",
     "output_type": "stream",
     "text": [
      "\n"
     ]
    }
   ],
   "source": [
    "\n",
    "\n",
    "# Generate risk assessment report\n",
    "def generate_report():\n",
    "    analyzer = RiskAnalyzer(stock_ticker, market_ticker )\n",
    "    beta = analyzer.calculate_beta()\n",
    "    systematic_risk = analyzer.calculate_systematic_risk()\n",
    "    unsystematic_risk = analyzer.calculate_unsystematic_risk()\n",
    "    start_date = analyzer.start_date\n",
    "    end_date = analyzer.end_date\n",
    "\n",
    "    report = (\n",
    "        f\"\"\"\n",
    "    Risk Assessment Report\n",
    "    ----------------------\n",
    "    Date: {datetime.now().strftime('%Y-%m-%d')}\n",
    "    \n",
    "    Stock: {stock_ticker}\n",
    "    Market Index: {market_ticker}\n",
    "    Period: From {start_date} to {end_date}\n",
    "    \n",
    "    Beta: {beta:.4f}\n",
    "    Systematic Risk: {systematic_risk:.7f}\n",
    "    Unsystematic Risk: {unsystematic_risk:.7f}\n",
    "    \n",
    "    Summary:\n",
    "    - The beta value of {beta:.4f} indicates that the stock is {'more' if beta > 1 else 'less'} volatile compared to the market.\n",
    "    - Systematic risk represents the risk that cannot be diversified away, influenced by market factors.\n",
    "    - Unsystematic risk, at {unsystematic_risk:.4f}, is the portion of risk specific to {stock_ticker}, which can be mitigated through diversification.\n",
    "    \"\"\"\n",
    "    )\n",
    "    return report\n",
    "\n",
    "\n",
    "report = generate_report()\n",
    "print(report)"
   ]
  }
 ],
 "metadata": {
  "kernelspec": {
   "display_name": "Python 3",
   "language": "python",
   "name": "python3"
  },
  "language_info": {
   "codemirror_mode": {
    "name": "ipython",
    "version": 3
   },
   "file_extension": ".py",
   "mimetype": "text/x-python",
   "name": "python",
   "nbconvert_exporter": "python",
   "pygments_lexer": "ipython3",
   "version": "3.12.1"
  }
 },
 "nbformat": 4,
 "nbformat_minor": 2
}
