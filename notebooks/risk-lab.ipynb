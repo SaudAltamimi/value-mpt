{
 "cells": [
  {
   "cell_type": "markdown",
   "metadata": {},
   "source": [
    "# Imports"
   ]
  },
  {
   "cell_type": "code",
   "execution_count": 2,
   "metadata": {},
   "outputs": [],
   "source": [
    "import pandas as pd\n",
    "import numpy as np\n",
    "import yfinance as yf\n",
    "from datetime import datetime, timedelta"
   ]
  },
  {
   "cell_type": "markdown",
   "metadata": {},
   "source": [
    "# Risk Analyzer Class \n",
    "using dummy variables"
   ]
  },
  {
   "cell_type": "code",
   "execution_count": 3,
   "metadata": {},
   "outputs": [],
   "source": [
    "\n",
    "#Dummy variables\n",
    "stock_ticker = '1120.SR' \n",
    "market_ticker = '^TASI.SR'\n",
    "\n",
    "\n",
    "class RiskAnalyzer:\n",
    "\n",
    "    # Initizialize with stock and market tickers, and lookbback period (set to two years by default)\n",
    "    def __init__(self, stock_ticker, market_ticker , lookback_days=2*365):\n",
    "        self.stock_ticker = stock_ticker\n",
    "        self.market_ticker = market_ticker\n",
    "        self.lookback_days = lookback_days\n",
    "        self.stock_returns = None\n",
    "        self.market_returns = None\n",
    "        self.start_date = None\n",
    "        self.end_date = None\n",
    "    \n",
    "    # Fetch historical prices and compute daily returns\n",
    "    def get_returns(self, ticker):\n",
    "        self.end_date = datetime.now().date()\n",
    "        self.start_date = self.end_date - timedelta(days = self.lookback_days)\n",
    "        prices = yf.download(ticker, start=self.start_date, end=self.end_date)['Adj Close']\n",
    "        returns = prices.pct_change().dropna()\n",
    "        return returns\n",
    "    \n",
    "    # Load returns for stock and market index\n",
    "    def load_returns(self):\n",
    "        stock_returns = self.get_returns(self.stock_ticker)\n",
    "        market_returns = self.get_returns(self.market_ticker)\n",
    "\n",
    "        # Align both returns to the same dates\n",
    "        aligned_returns = stock_returns.align(market_returns, join= 'inner')\n",
    "        self.stock_returns = aligned_returns[0]\n",
    "        self.market_returns = aligned_returns[1]\n",
    "\n",
    "    # Calculate beta (stock volatility relative to the market)\n",
    "    def calculate_beta(self):\n",
    "        self.load_returns()\n",
    "        beta = np.cov(self.stock_returns, self.market_returns)[0, 1] / np.var(self.market_returns)\n",
    "        return beta\n",
    "    \n",
    "    # Calculate systematic risk (market-related risk)\n",
    "    def calculate_systematic_risk(self):\n",
    "        beta = self.calculate_beta()\n",
    "        systematic_risk = beta**2 * np.var(self.market_returns)\n",
    "        return systematic_risk\n",
    "\n",
    "    # Calculate unsystematic risk (stock-specific risk)\n",
    "    def calculate_unsystematic_risk(self):\n",
    "        self.load_returns()\n",
    "        total_risk = np.var(self.stock_returns)\n",
    "        systematic_risk = self.calculate_systematic_risk()\n",
    "        unsystematic_risk = total_risk - systematic_risk\n",
    "        return unsystematic_risk\n"
   ]
  },
  {
   "cell_type": "markdown",
   "metadata": {},
   "source": [
    "# Generate Risk Assessment Report"
   ]
  },
  {
   "cell_type": "code",
   "execution_count": 4,
   "metadata": {},
   "outputs": [
    {
     "name": "stderr",
     "output_type": "stream",
     "text": [
      "[*********************100%%**********************]  1 of 1 completed\n",
      "[*********************100%%**********************]  1 of 1 completed\n",
      "[*********************100%%**********************]  1 of 1 completed\n",
      "[*********************100%%**********************]  1 of 1 completed\n",
      "[*********************100%%**********************]  1 of 1 completed\n",
      "[*********************100%%**********************]  1 of 1 completed\n",
      "[*********************100%%**********************]  1 of 1 completed\n",
      "[*********************100%%**********************]  1 of 1 completed"
     ]
    },
    {
     "name": "stdout",
     "output_type": "stream",
     "text": [
      "\n",
      "    Risk Assessment Report\n",
      "    ----------------------\n",
      "    Date: 2024-08-25\n",
      "    \n",
      "    Stock: 1120.SR\n",
      "    Market Index: ^TASI.SR\n",
      "    Period: From 2022-08-26 to 2024-08-25\n",
      "    \n",
      "    Beta: 1.1271\n",
      "    Systematic Risk: 0.0000814\n",
      "    Unsystematic Risk: 0.0000855\n",
      "    \n",
      "    Summary:\n",
      "    - The beta value of 1.1271 indicates that the stock is more volatile compared to the market.\n",
      "    - Systematic risk represents the risk that cannot be diversified away, influenced by market factors.\n",
      "    - Unsystematic risk, at 0.0001, is the portion of risk specific to 1120.SR, which can be mitigated through diversification.\n",
      "    \n"
     ]
    },
    {
     "name": "stderr",
     "output_type": "stream",
     "text": [
      "\n"
     ]
    }
   ],
   "source": [
    "\n",
    "\n",
    "# Generate risk assessment report\n",
    "def generate_report():\n",
    "    analyzer = RiskAnalyzer(stock_ticker, market_ticker )\n",
    "    beta = analyzer.calculate_beta()\n",
    "    systematic_risk = analyzer.calculate_systematic_risk()\n",
    "    unsystematic_risk = analyzer.calculate_unsystematic_risk()\n",
    "    start_date = analyzer.start_date\n",
    "    end_date = analyzer.end_date\n",
    "\n",
    "    report = (\n",
    "        f\"\"\"\n",
    "    Risk Assessment Report\n",
    "    ----------------------\n",
    "    Date: {datetime.now().strftime('%Y-%m-%d')}\n",
    "    \n",
    "    Stock: {stock_ticker}\n",
    "    Market Index: {market_ticker}\n",
    "    Period: From {start_date} to {end_date}\n",
    "    \n",
    "    Beta: {beta:.4f}\n",
    "    Systematic Risk: {systematic_risk:.7f}\n",
    "    Unsystematic Risk: {unsystematic_risk:.7f}\n",
    "    \n",
    "    Summary:\n",
    "    - The beta value of {beta:.4f} indicates that the stock is {'more' if beta > 1 else 'less'} volatile compared to the market.\n",
    "    - Systematic risk represents the risk that cannot be diversified away, influenced by market factors.\n",
    "    - Unsystematic risk, at {unsystematic_risk:.4f}, is the portion of risk specific to {stock_ticker}, which can be mitigated through diversification.\n",
    "    \"\"\"\n",
    "    )\n",
    "    return report\n",
    "\n",
    "\n",
    "report = generate_report()\n",
    "print(report)"
   ]
  }
 ],
 "metadata": {
  "kernelspec": {
   "display_name": "Python 3",
   "language": "python",
   "name": "python3"
  },
  "language_info": {
   "codemirror_mode": {
    "name": "ipython",
    "version": 3
   },
   "file_extension": ".py",
   "mimetype": "text/x-python",
   "name": "python",
   "nbconvert_exporter": "python",
   "pygments_lexer": "ipython3",
   "version": "3.12.5"
  }
 },
 "nbformat": 4,
 "nbformat_minor": 2
}
